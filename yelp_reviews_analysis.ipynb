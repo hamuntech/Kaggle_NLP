{
 "cells": [
  {
   "cell_type": "code",
   "execution_count": 12,
   "metadata": {},
   "outputs": [],
   "source": [
    "import pandas as pd\n",
    "import spacy\n",
    "from spacy.matcher import PhraseMatcher\n",
    "from collections import defaultdict"
   ]
  },
  {
   "cell_type": "code",
   "execution_count": 2,
   "metadata": {},
   "outputs": [
    {
     "output_type": "execute_result",
     "data": {
      "text/plain": "                   review_id                 user_id             business_id  \\\n109   lDJIaF4eYRF4F7g6Zb9euw  lb0QUR5bc4O-Am4hNq9ZGg  r5PLDU-4mSbde5XekTXSCA   \n1013  vvIzf3pr8lTqE_AOsxmgaA  MAmijW4ooUzujkufYYLMeQ  r5PLDU-4mSbde5XekTXSCA   \n1204  UF-JqzMczZ8vvp_4tPK3bQ  slfi6gf_qEYTXy90Sw93sg  r5PLDU-4mSbde5XekTXSCA   \n1251  geUJGrKhXynxDC2uvERsLw  N_-UepOzAsuDQwOUtfRFGw  r5PLDU-4mSbde5XekTXSCA   \n1354  aPctXPeZW3kDq36TRm-CqA  139hD7gkZVzSvSzDPwhNNw  r5PLDU-4mSbde5XekTXSCA   \n\n      stars  useful  funny  cool  \\\n109       4       2      0     0   \n1013      4       0      0     0   \n1204      5       1      0     0   \n1251      1       0      0     0   \n1354      2       0      0     0   \n\n                                                   text                date  \n109   I used to work food service and my manager at ... 2013-01-27 17:54:54  \n1013  We have been trying Eggplant sandwiches all ov... 2015-04-15 04:50:56  \n1204  Amazing Steak and Cheese... Better than any Ph... 2011-03-20 00:57:45  \n1251  Although I have been going to DeFalco's for ye... 2018-07-17 01:48:23  \n1354  Highs: Ambience, value, pizza and deserts. Thi... 2018-01-21 10:52:58  ",
      "text/html": "<div>\n<style scoped>\n    .dataframe tbody tr th:only-of-type {\n        vertical-align: middle;\n    }\n\n    .dataframe tbody tr th {\n        vertical-align: top;\n    }\n\n    .dataframe thead th {\n        text-align: right;\n    }\n</style>\n<table border=\"1\" class=\"dataframe\">\n  <thead>\n    <tr style=\"text-align: right;\">\n      <th></th>\n      <th>review_id</th>\n      <th>user_id</th>\n      <th>business_id</th>\n      <th>stars</th>\n      <th>useful</th>\n      <th>funny</th>\n      <th>cool</th>\n      <th>text</th>\n      <th>date</th>\n    </tr>\n  </thead>\n  <tbody>\n    <tr>\n      <th>109</th>\n      <td>lDJIaF4eYRF4F7g6Zb9euw</td>\n      <td>lb0QUR5bc4O-Am4hNq9ZGg</td>\n      <td>r5PLDU-4mSbde5XekTXSCA</td>\n      <td>4</td>\n      <td>2</td>\n      <td>0</td>\n      <td>0</td>\n      <td>I used to work food service and my manager at ...</td>\n      <td>2013-01-27 17:54:54</td>\n    </tr>\n    <tr>\n      <th>1013</th>\n      <td>vvIzf3pr8lTqE_AOsxmgaA</td>\n      <td>MAmijW4ooUzujkufYYLMeQ</td>\n      <td>r5PLDU-4mSbde5XekTXSCA</td>\n      <td>4</td>\n      <td>0</td>\n      <td>0</td>\n      <td>0</td>\n      <td>We have been trying Eggplant sandwiches all ov...</td>\n      <td>2015-04-15 04:50:56</td>\n    </tr>\n    <tr>\n      <th>1204</th>\n      <td>UF-JqzMczZ8vvp_4tPK3bQ</td>\n      <td>slfi6gf_qEYTXy90Sw93sg</td>\n      <td>r5PLDU-4mSbde5XekTXSCA</td>\n      <td>5</td>\n      <td>1</td>\n      <td>0</td>\n      <td>0</td>\n      <td>Amazing Steak and Cheese... Better than any Ph...</td>\n      <td>2011-03-20 00:57:45</td>\n    </tr>\n    <tr>\n      <th>1251</th>\n      <td>geUJGrKhXynxDC2uvERsLw</td>\n      <td>N_-UepOzAsuDQwOUtfRFGw</td>\n      <td>r5PLDU-4mSbde5XekTXSCA</td>\n      <td>1</td>\n      <td>0</td>\n      <td>0</td>\n      <td>0</td>\n      <td>Although I have been going to DeFalco's for ye...</td>\n      <td>2018-07-17 01:48:23</td>\n    </tr>\n    <tr>\n      <th>1354</th>\n      <td>aPctXPeZW3kDq36TRm-CqA</td>\n      <td>139hD7gkZVzSvSzDPwhNNw</td>\n      <td>r5PLDU-4mSbde5XekTXSCA</td>\n      <td>2</td>\n      <td>0</td>\n      <td>0</td>\n      <td>0</td>\n      <td>Highs: Ambience, value, pizza and deserts. Thi...</td>\n      <td>2018-01-21 10:52:58</td>\n    </tr>\n  </tbody>\n</table>\n</div>"
     },
     "metadata": {},
     "execution_count": 2
    }
   ],
   "source": [
    "# Load in the data from JSON file\n",
    "data = pd.read_json('./input/restaurant.json')\n",
    "data.head()"
   ]
  },
  {
   "cell_type": "code",
   "execution_count": 3,
   "metadata": {},
   "outputs": [],
   "source": [
    "menu = [\"Cheese Steak\", \"Cheesesteak\", \"Steak and Cheese\", \"Italian Combo\", \"Tiramisu\", \"Cannoli\",\n",
    "        \"Chicken Salad\", \"Chicken Spinach Salad\", \"Meatball\", \"Pizza\", \"Pizzas\", \"Spaghetti\",\n",
    "        \"Bruchetta\", \"Eggplant\", \"Italian Beef\", \"Purista\", \"Pasta\", \"Calzones\",  \"Calzone\",\n",
    "        \"Italian Sausage\", \"Chicken Cutlet\", \"Chicken Parm\", \"Chicken Parmesan\", \"Gnocchi\",\n",
    "        \"Chicken Pesto\", \"Turkey Sandwich\", \"Turkey Breast\", \"Ziti\", \"Portobello\", \"Reuben\",\n",
    "        \"Mozzarella Caprese\",  \"Corned Beef\", \"Garlic Bread\", \"Pastrami\", \"Roast Beef\",\n",
    "        \"Tuna Salad\", \"Lasagna\", \"Artichoke Salad\", \"Fettuccini Alfredo\", \"Chicken Parmigiana\",\n",
    "        \"Grilled Veggie\", \"Grilled Veggies\", \"Grilled Vegetable\", \"Mac and Cheese\", \"Macaroni\",  \n",
    "         \"Prosciutto\", \"Salami\"]"
   ]
  },
  {
   "cell_type": "code",
   "execution_count": 6,
   "metadata": {},
   "outputs": [],
   "source": [
    "#We are extracting the foods mentioned in a single review\n",
    "#text is the reviews tag in the JSON file\n",
    "index_of_review_to_test_on = 14\n",
    "text_to_test_on = data.text.iloc[index_of_review_to_test_on]"
   ]
  },
  {
   "cell_type": "code",
   "execution_count": 28,
   "metadata": {},
   "outputs": [
    {
     "output_type": "stream",
     "name": "stdout",
     "text": "[(8291075388056826051, 2, 3), (8291075388056826051, 16, 17), (8291075388056826051, 58, 59)]\n"
    }
   ],
   "source": [
    "#https://spacy.io/api/matcher\n",
    "nlp = spacy.blank('en')\n",
    "review_doc = nlp(text_to_test_on)\n",
    "\n",
    "matcher = PhraseMatcher(nlp.vocab, attr='LOWER')\n",
    "menu_tokens_list = [nlp(item) for item in menu]\n",
    "matcher.add(\"MENU\", None, *menu_tokens_list)\n",
    "print(matches)\n",
    "matches = matcher(review_doc)"
   ]
  },
  {
   "cell_type": "code",
   "execution_count": 29,
   "metadata": {},
   "outputs": [
    {
     "output_type": "execute_result",
     "data": {
      "text/plain": "spacy.tokens.doc.Doc"
     },
     "metadata": {},
     "execution_count": 29
    }
   ],
   "source": [
    "type(review_doc)"
   ]
  },
  {
   "cell_type": "code",
   "execution_count": 33,
   "metadata": {},
   "outputs": [
    {
     "output_type": "stream",
     "name": "stdout",
     "text": "The\nIl\nPurista\n"
    }
   ],
   "source": [
    "print(review_doc[0].text)\n",
    "print(review_doc[1].text)\n",
    "print(review_doc[2].text)"
   ]
  },
  {
   "cell_type": "code",
   "execution_count": 45,
   "metadata": {},
   "outputs": [
    {
     "output_type": "stream",
     "name": "stdout",
     "text": "Token number 2: Purista\nToken number 16: prosciutto\nToken number 58: meatball\n"
    }
   ],
   "source": [
    "#match[1] matches the index 1 from each of the matched tuples and then we extract the matched text from the review doc using the matched strings' start:stop positions (https://stackoverflow.com/questions/4012340/colon-in-python-list-index)\n",
    "for match in matches:\n",
    "    print(f\"Token number {match[1]}: {review_doc[match[1]:match[2]]}\")"
   ]
  },
  {
   "cell_type": "code",
   "execution_count": 13,
   "metadata": {},
   "outputs": [],
   "source": [
    "#Run the matcher over the whole dataset and collect ratings for each menu item. Each review has a rating, review.stars. For each item that appears in the review text (review.text), append the review's rating to a list of ratings for that item. The lists are kept in a dictionary item_ratings.\n",
    "item_ratings = defaultdict(list)\n",
    "\n",
    "for idx, review in data.iterrows():\n",
    "    doc = nlp(review.text) #Store a review's text in doc\n",
    "    matches = matcher(doc) #Pass doc to the matcher\n",
    "\n",
    "    found_items = set([doc[match[1]:match[2]] for match in matches])\n",
    "\n",
    "    for item in found_items:\n",
    "        item_ratings[str(item).lower()].append(review.stars)"
   ]
  },
  {
   "cell_type": "code",
   "execution_count": 55,
   "metadata": {},
   "outputs": [],
   "source": [
    "#print(item_ratings)"
   ]
  },
  {
   "cell_type": "code",
   "execution_count": 14,
   "metadata": {},
   "outputs": [],
   "source": [
    "mean_ratings = {item: sum(ratings)/len(ratings) for item, ratings in item_ratings.items()}\n",
    "worst_item = sorted(mean_ratings, key=mean_ratings.get)[0]"
   ]
  },
  {
   "cell_type": "code",
   "execution_count": 15,
   "metadata": {},
   "outputs": [
    {
     "output_type": "stream",
     "name": "stdout",
     "text": "chicken cutlet\n3.5454545454545454\n"
    }
   ],
   "source": [
    "print(worst_item)\n",
    "print(mean_ratings[worst_item])"
   ]
  },
  {
   "cell_type": "code",
   "execution_count": 22,
   "metadata": {},
   "outputs": [
    {
     "output_type": "stream",
     "name": "stdout",
     "text": "pizza  358\n                    pasta  255\n                 meatball  163\n              cheesesteak  146\n                  calzone  110\n                 eggplant   95\n                  cannoli   89\n             cheese steak   88\n                  lasagna   83\n                  purista   67\n               prosciutto   63\n             chicken parm   58\n          italian sausage   57\n             garlic bread   46\n                  gnocchi   45\n                spaghetti   41\n                 calzones   38\n                   pizzas   33\n                   salami   32\n            chicken pesto   30\n             italian beef   29\n                 tiramisu   27\n                     ziti   26\n            italian combo   22\n         chicken parmesan   21\n       chicken parmigiana   18\n           mac and cheese   18\n               portobello   18\n                 pastrami   16\n           chicken cutlet   11\n         steak and cheese    9\n               roast beef    7\n       fettuccini alfredo    6\n           grilled veggie    6\n                 macaroni    6\n            chicken salad    6\n          turkey sandwich    5\n               tuna salad    5\n          artichoke salad    5\n                   reuben    5\n    chicken spinach salad    2\n              corned beef    2\n            turkey breast    1\n"
    }
   ],
   "source": [
    "counts = {item: len(ratings) for item, ratings in item_ratings.items()}\n",
    "\n",
    "item_counts = sorted(counts, key=counts.get, reverse=True)\n",
    "for item in item_counts:\n",
    "    print(f\"{item:>25}{counts[item]:>5}\")"
   ]
  },
  {
   "cell_type": "code",
   "execution_count": 23,
   "metadata": {},
   "outputs": [
    {
     "output_type": "stream",
     "name": "stdout",
     "text": "Worst rated menu items:\nchicken cutlet       Ave rating: 3.55 \tcount: 11\nturkey sandwich      Ave rating: 3.80 \tcount: 5\nspaghetti            Ave rating: 3.85 \tcount: 41\nitalian combo        Ave rating: 3.91 \tcount: 22\neggplant             Ave rating: 3.97 \tcount: 95\nitalian beef         Ave rating: 4.00 \tcount: 29\ntuna salad           Ave rating: 4.00 \tcount: 5\ngarlic bread         Ave rating: 4.02 \tcount: 46\nmeatball             Ave rating: 4.08 \tcount: 163\nportobello           Ave rating: 4.11 \tcount: 18\n\n\nBest rated menu items:\nprosciutto           Ave rating: 4.62 \tcount: 63\npurista              Ave rating: 4.64 \tcount: 67\nchicken salad        Ave rating: 4.67 \tcount: 6\npastrami             Ave rating: 4.69 \tcount: 16\nreuben               Ave rating: 4.80 \tcount: 5\nsteak and cheese     Ave rating: 4.89 \tcount: 9\nartichoke salad      Ave rating: 5.00 \tcount: 5\nfettuccini alfredo   Ave rating: 5.00 \tcount: 6\nturkey breast        Ave rating: 5.00 \tcount: 1\ncorned beef          Ave rating: 5.00 \tcount: 2\n"
    }
   ],
   "source": [
    "sorted_ratings = sorted(mean_ratings, key=mean_ratings.get)\n",
    "\n",
    "print(\"Worst rated menu items:\")\n",
    "for item in sorted_ratings[:10]:\n",
    "    print(f\"{item:20} Ave rating: {mean_ratings[item]:.2f} \\tcount: {counts[item]}\")\n",
    "    \n",
    "print(\"\\n\\nBest rated menu items:\")\n",
    "for item in sorted_ratings[-10:]:\n",
    "    print(f\"{item:20} Ave rating: {mean_ratings[item]:.2f} \\tcount: {counts[item]}\")"
   ]
  },
  {
   "cell_type": "code",
   "execution_count": null,
   "metadata": {},
   "outputs": [],
   "source": []
  },
  {
   "cell_type": "code",
   "execution_count": 17,
   "metadata": {},
   "outputs": [
    {
     "output_type": "stream",
     "name": "stdout",
     "text": "Worst rated menu items:\nchicken cutlet       Ave rating: 3.55 \tcount: 11\nturkey sandwich      Ave rating: 3.80 \tcount: 5\nspaghetti            Ave rating: 3.85 \tcount: 41\nitalian combo        Ave rating: 3.91 \tcount: 22\neggplant             Ave rating: 3.97 \tcount: 95\nitalian beef         Ave rating: 4.00 \tcount: 29\ntuna salad           Ave rating: 4.00 \tcount: 5\ngarlic bread         Ave rating: 4.02 \tcount: 46\nmeatball             Ave rating: 4.08 \tcount: 163\nportobello           Ave rating: 4.11 \tcount: 18\n\n\nBest rated menu items:\nprosciutto           Ave rating: 4.62 \tcount: 63\npurista              Ave rating: 4.64 \tcount: 67\nchicken salad        Ave rating: 4.67 \tcount: 6\npastrami             Ave rating: 4.69 \tcount: 16\nreuben               Ave rating: 4.80 \tcount: 5\nsteak and cheese     Ave rating: 4.89 \tcount: 9\nartichoke salad      Ave rating: 5.00 \tcount: 5\nfettuccini alfredo   Ave rating: 5.00 \tcount: 6\nturkey breast        Ave rating: 5.00 \tcount: 1\ncorned beef          Ave rating: 5.00 \tcount: 2\n"
    }
   ],
   "source": [
    "sorted_ratings = sorted(mean_ratings, key=mean_ratings.get)\n",
    "\n",
    "print(\"Worst rated menu items:\")\n",
    "for item in sorted_ratings[:10]:\n",
    "    print(f\"{item:20} Ave rating: {mean_ratings[item]:.2f} \\tcount: {counts[item]}\")\n",
    "    \n",
    "print(\"\\n\\nBest rated menu items:\")\n",
    "for item in sorted_ratings[-10:]:\n",
    "    print(f\"{item:20} Ave rating: {mean_ratings[item]:.2f} \\tcount: {counts[item]}\")"
   ]
  },
  {
   "cell_type": "code",
   "execution_count": null,
   "metadata": {},
   "outputs": [],
   "source": []
  }
 ],
 "metadata": {
  "language_info": {
   "codemirror_mode": {
    "name": "ipython",
    "version": 3
   },
   "file_extension": ".py",
   "mimetype": "text/x-python",
   "name": "python",
   "nbconvert_exporter": "python",
   "pygments_lexer": "ipython3",
   "version": "3.8.2-final"
  },
  "orig_nbformat": 2,
  "kernelspec": {
   "name": "python37764bitworkconda23fa24f4f02a4d25ae6ccbff27cf086c",
   "display_name": "Python 3.7.7 64-bit ('work': conda)"
  }
 },
 "nbformat": 4,
 "nbformat_minor": 2
}